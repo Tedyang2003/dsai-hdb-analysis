{
 "cells": [
  {
   "cell_type": "markdown",
   "metadata": {},
   "source": [
    "# DSAI Mini-project (Data Collection)\n",
    "## HDB Resale Price Analysis \n",
    "\n",
    "The Housing Development Board (HDB) flat is a cornerstone of the Authentic Singaporean Experience (for [78% of us](https://www.singstat.gov.sg/find-data/search-by-theme/households/households/latest-data)). While many of us purchase flats directly from HDB through the Build-to-Order (BTO) exercise, there are some factors which will lead to many others purchasing an HDB flat on the resale market instead.\n",
    "\n",
    "Because a home purchase is typically the most expensive item that many of us purchase in our lives, it is really important that we pay the right amount for the house, as overpaying for a home can cost us a lot of money, typically in the tens of thousands, or hundreds of thousands of dollars.\n",
    "\n",
    "However, housing prices are determined by a myriad of factors, and it can get very confusing to understand what is the right value to offer for a home. So, this project will aim to address the issue of predicting the resale value of a house.\n",
    "\n",
    "The problem statement is:\n",
    "**<center>Can we accurately predict the resale value of a Housing Development Board (HDB) flat based on various housing-related data?</center>**\n",
    "\n",
    "The audience is mainly sellers and buyers of hdb flat, providing them info on the what, where and when that affects the hdb price\n",
    "\n",
    "This file contains the data collection step for our dataset. In which we employed various methods to collect data such as \n",
    "- Dataset download from data.gov https://data.gov.sg/collections/189/view.\n",
    "- Beautiful soup webscraping from wikipedia\n",
    "- Use of Onemap api to collect locational data \n",
    "\n",
    "This file only contains the data collection. All EDA, Data visualisation and ML tasks are done in the other file\n"
   ]
  },
  {
   "cell_type": "code",
   "execution_count": null,
   "metadata": {},
   "outputs": [],
   "source": [
    "import pandas as pd \n",
    "import numpy as np \n",
    "import seaborn as sns\n",
    "import matplotlib.pyplot as plt\n",
    "import os \n",
    "import json"
   ]
  },
  {
   "cell_type": "markdown",
   "metadata": {},
   "source": [
    "The main dataset that out analysis would be about is the HDB resale price dataset collected from kaggle. There are in total 4 separate resale datasets, containing resale data from the years 2000 to 2025 March"
   ]
  },
  {
   "cell_type": "code",
   "execution_count": 5,
   "metadata": {},
   "outputs": [
    {
     "data": {
      "text/html": [
       "<div>\n",
       "<style scoped>\n",
       "    .dataframe tbody tr th:only-of-type {\n",
       "        vertical-align: middle;\n",
       "    }\n",
       "\n",
       "    .dataframe tbody tr th {\n",
       "        vertical-align: top;\n",
       "    }\n",
       "\n",
       "    .dataframe thead th {\n",
       "        text-align: right;\n",
       "    }\n",
       "</style>\n",
       "<table border=\"1\" class=\"dataframe\">\n",
       "  <thead>\n",
       "    <tr style=\"text-align: right;\">\n",
       "      <th></th>\n",
       "      <th>month</th>\n",
       "      <th>town</th>\n",
       "      <th>flat_type</th>\n",
       "      <th>block</th>\n",
       "      <th>street_name</th>\n",
       "      <th>storey_range</th>\n",
       "      <th>floor_area_sqm</th>\n",
       "      <th>flat_model</th>\n",
       "      <th>lease_commence_date</th>\n",
       "      <th>resale_price</th>\n",
       "      <th>remaining_lease</th>\n",
       "    </tr>\n",
       "  </thead>\n",
       "  <tbody>\n",
       "    <tr>\n",
       "      <th>0</th>\n",
       "      <td>2000-01</td>\n",
       "      <td>ANG MO KIO</td>\n",
       "      <td>3 ROOM</td>\n",
       "      <td>170</td>\n",
       "      <td>ANG MO KIO AVE 4</td>\n",
       "      <td>07 TO 09</td>\n",
       "      <td>69.0</td>\n",
       "      <td>Improved</td>\n",
       "      <td>1986</td>\n",
       "      <td>147000.0</td>\n",
       "      <td>NaN</td>\n",
       "    </tr>\n",
       "    <tr>\n",
       "      <th>1</th>\n",
       "      <td>2000-01</td>\n",
       "      <td>ANG MO KIO</td>\n",
       "      <td>3 ROOM</td>\n",
       "      <td>174</td>\n",
       "      <td>ANG MO KIO AVE 4</td>\n",
       "      <td>04 TO 06</td>\n",
       "      <td>61.0</td>\n",
       "      <td>Improved</td>\n",
       "      <td>1986</td>\n",
       "      <td>144000.0</td>\n",
       "      <td>NaN</td>\n",
       "    </tr>\n",
       "  </tbody>\n",
       "</table>\n",
       "</div>"
      ],
      "text/plain": [
       "     month        town flat_type block       street_name storey_range  \\\n",
       "0  2000-01  ANG MO KIO    3 ROOM   170  ANG MO KIO AVE 4     07 TO 09   \n",
       "1  2000-01  ANG MO KIO    3 ROOM   174  ANG MO KIO AVE 4     04 TO 06   \n",
       "\n",
       "   floor_area_sqm flat_model  lease_commence_date  resale_price  \\\n",
       "0            69.0   Improved                 1986      147000.0   \n",
       "1            61.0   Improved                 1986      144000.0   \n",
       "\n",
       "  remaining_lease  \n",
       "0             NaN  \n",
       "1             NaN  "
      ]
     },
     "execution_count": 5,
     "metadata": {},
     "output_type": "execute_result"
    }
   ],
   "source": [
    "dfs = [] \n",
    "for file in os.listdir('./datasets'):\n",
    "    if file.endswith('.csv'):  # Check if the file is a CSV\n",
    "        dfs.append(pd.read_csv(f\"./datasets/{file}\"))\n",
    "\n",
    "df = pd.concat(dfs, ignore_index=True)  # Ignore index to avoid duplication in the concatenated dataframe\n",
    "df.head(2)"
   ]
  },
  {
   "cell_type": "markdown",
   "metadata": {},
   "source": [
    "### WebScraping and Geo data collection\n",
    "\n",
    "To make our project more fruitful, we decided to add things such as:\n",
    "- MRT station, with lat and long data \n",
    "- Malls with lat and long data\n",
    "- Lat and long extraction for each house \n",
    "\n",
    "This will allow us to calculate things outside of our dataset, such as distances between each home to ammenities, nearest public space available and etc that can greatly help with the accuracy of our model and understanding of our data \n",
    "\n",
    "#### Tools \n",
    "- Beautiful soup for web scraping \n",
    "- One map for lat and long finding of locations"
   ]
  },
  {
   "cell_type": "code",
   "execution_count": 7,
   "metadata": {},
   "outputs": [],
   "source": [
    "import requests\n",
    "from bs4 import BeautifulSoup\n",
    "import json\n",
    "import re\n",
    "from tqdm import tqdm"
   ]
  },
  {
   "cell_type": "markdown",
   "metadata": {},
   "source": [
    "### MRT Station Extraction\n",
    "\n",
    "First we will try to extract lat and long data of MRT stations in Singapore. This requires a 2 step process:\n",
    "- Web scrapping for all available MRT stations in SG currently \n",
    "- Lat and long location using One Map API\n",
    "\n",
    "We will be scrapping from wikipedia, even though it may not be the most reliable source of information it is the easiest to extract just via html elements, and since it is a Singapore page, it is unlikely to have major reliability issues."
   ]
  },
  {
   "cell_type": "code",
   "execution_count": 8,
   "metadata": {},
   "outputs": [
    {
     "name": "stdout",
     "output_type": "stream",
     "text": [
      "Request successful!\n"
     ]
    }
   ],
   "source": [
    "url = \"https://en.wikipedia.org/wiki/List_of_Singapore_MRT_stations\"  # Example URL\n",
    "response = requests.get(url)  # Send HTTP request\n",
    "\n",
    "# Check if request was successful\n",
    "if response.status_code == 200:\n",
    "    print(\"Request successful!\")\n",
    "else:\n",
    "    print(\"Failed to retrieve page.\")\n",
    "\n",
    "soup = BeautifulSoup(response.text, \"html.parser\")  # Parse HTML"
   ]
  },
  {
   "cell_type": "code",
   "execution_count": 9,
   "metadata": {},
   "outputs": [
    {
     "name": "stdout",
     "output_type": "stream",
     "text": [
      "Number of tables found: 23\n"
     ]
    }
   ],
   "source": [
    "tables = soup.find_all(\"table\")  # Find all tables\n",
    "print(f\"Number of tables found: {len(tables)}\")"
   ]
  },
  {
   "cell_type": "markdown",
   "metadata": {},
   "source": [
    "There have been 23 tables found in the wiki, Singapore only has 6 that are official constructed. After some identification, table 2 to 8 are the correct tables we are looking for.\n",
    "\n",
    "Below is a function that has been created by us to extract the mrt station name. If it meets any issues, it will just ignore and proceed"
   ]
  },
  {
   "cell_type": "code",
   "execution_count": 10,
   "metadata": {},
   "outputs": [],
   "source": [
    "def extract_mrt(table):\n",
    "    rows = table.find_all(\"tr\")  # Get all table rows\n",
    "    mrt_stations = pd.DataFrame({\n",
    "        'station_name': [],\n",
    "        'code': []\n",
    "    })\n",
    "\n",
    "    for row in rows:  # Print first 5 rows\n",
    "        cols = row.find_all(\"td\")  # Get table columns\n",
    "        row = [col.text.strip() for col in cols]\n",
    "  \n",
    "\n",
    "        try:\n",
    "            match = re.match(r'([A-Za-z]+[0-9]+)', row[0])\n",
    "            if match:\n",
    "                result = match.group(0)  # This gives you 'NS1'\n",
    "            mrt_stations.loc[len(mrt_stations)] = [row[1], result]\n",
    "        except:\n",
    "            continue\n",
    "\n",
    "    return mrt_stations"
   ]
  },
  {
   "cell_type": "markdown",
   "metadata": {},
   "source": [
    "Below we extracted the north south line as a test and see that it works"
   ]
  },
  {
   "cell_type": "code",
   "execution_count": 11,
   "metadata": {},
   "outputs": [
    {
     "data": {
      "text/html": [
       "<div>\n",
       "<style scoped>\n",
       "    .dataframe tbody tr th:only-of-type {\n",
       "        vertical-align: middle;\n",
       "    }\n",
       "\n",
       "    .dataframe tbody tr th {\n",
       "        vertical-align: top;\n",
       "    }\n",
       "\n",
       "    .dataframe thead th {\n",
       "        text-align: right;\n",
       "    }\n",
       "</style>\n",
       "<table border=\"1\" class=\"dataframe\">\n",
       "  <thead>\n",
       "    <tr style=\"text-align: right;\">\n",
       "      <th></th>\n",
       "      <th>station_name</th>\n",
       "      <th>code</th>\n",
       "    </tr>\n",
       "  </thead>\n",
       "  <tbody>\n",
       "    <tr>\n",
       "      <th>0</th>\n",
       "      <td>Jurong East</td>\n",
       "      <td>NS1</td>\n",
       "    </tr>\n",
       "    <tr>\n",
       "      <th>1</th>\n",
       "      <td>Bukit Batok</td>\n",
       "      <td>NS2</td>\n",
       "    </tr>\n",
       "    <tr>\n",
       "      <th>2</th>\n",
       "      <td>Bukit Gombak</td>\n",
       "      <td>NS3</td>\n",
       "    </tr>\n",
       "    <tr>\n",
       "      <th>3</th>\n",
       "      <td>Brickland</td>\n",
       "      <td>NS3</td>\n",
       "    </tr>\n",
       "    <tr>\n",
       "      <th>4</th>\n",
       "      <td>Choa Chu Kang</td>\n",
       "      <td>NS4</td>\n",
       "    </tr>\n",
       "  </tbody>\n",
       "</table>\n",
       "</div>"
      ],
      "text/plain": [
       "    station_name code\n",
       "0    Jurong East  NS1\n",
       "1    Bukit Batok  NS2\n",
       "2   Bukit Gombak  NS3\n",
       "3      Brickland  NS3\n",
       "4  Choa Chu Kang  NS4"
      ]
     },
     "execution_count": 11,
     "metadata": {},
     "output_type": "execute_result"
    }
   ],
   "source": [
    "mrt_stations = extract_mrt(tables[2])\n",
    "mrt_stations.head()"
   ]
  },
  {
   "cell_type": "markdown",
   "metadata": {},
   "source": [
    "Now we can apply it for all MRT station tables, combine them into a single dataframe and then delete any duplicate stations"
   ]
  },
  {
   "cell_type": "code",
   "execution_count": 12,
   "metadata": {},
   "outputs": [
    {
     "name": "stdout",
     "output_type": "stream",
     "text": [
      "6\n",
      "(190, 2)\n"
     ]
    },
    {
     "data": {
      "text/html": [
       "<div>\n",
       "<style scoped>\n",
       "    .dataframe tbody tr th:only-of-type {\n",
       "        vertical-align: middle;\n",
       "    }\n",
       "\n",
       "    .dataframe tbody tr th {\n",
       "        vertical-align: top;\n",
       "    }\n",
       "\n",
       "    .dataframe thead th {\n",
       "        text-align: right;\n",
       "    }\n",
       "</style>\n",
       "<table border=\"1\" class=\"dataframe\">\n",
       "  <thead>\n",
       "    <tr style=\"text-align: right;\">\n",
       "      <th></th>\n",
       "      <th>station_name</th>\n",
       "      <th>code</th>\n",
       "    </tr>\n",
       "  </thead>\n",
       "  <tbody>\n",
       "    <tr>\n",
       "      <th>0</th>\n",
       "      <td>Jurong East</td>\n",
       "      <td>NS1</td>\n",
       "    </tr>\n",
       "    <tr>\n",
       "      <th>1</th>\n",
       "      <td>Bukit Batok</td>\n",
       "      <td>NS2</td>\n",
       "    </tr>\n",
       "    <tr>\n",
       "      <th>2</th>\n",
       "      <td>Bukit Gombak</td>\n",
       "      <td>NS3</td>\n",
       "    </tr>\n",
       "    <tr>\n",
       "      <th>3</th>\n",
       "      <td>Brickland</td>\n",
       "      <td>NS3</td>\n",
       "    </tr>\n",
       "    <tr>\n",
       "      <th>4</th>\n",
       "      <td>Choa Chu Kang</td>\n",
       "      <td>NS4</td>\n",
       "    </tr>\n",
       "  </tbody>\n",
       "</table>\n",
       "</div>"
      ],
      "text/plain": [
       "    station_name code\n",
       "0    Jurong East  NS1\n",
       "1    Bukit Batok  NS2\n",
       "2   Bukit Gombak  NS3\n",
       "3      Brickland  NS3\n",
       "4  Choa Chu Kang  NS4"
      ]
     },
     "execution_count": 12,
     "metadata": {},
     "output_type": "execute_result"
    }
   ],
   "source": [
    "mrt_dfs = []\n",
    "for table in tables[2:8]:\n",
    "    mrt_dfs.append(extract_mrt(table))\n",
    "\n",
    "print(len(mrt_dfs))\n",
    "mrt_df = pd.concat(mrt_dfs)\n",
    "mrt_stations.drop_duplicates(inplace=True)\n",
    "\n",
    "print(mrt_df.shape)\n",
    "mrt_df.head()"
   ]
  },
  {
   "cell_type": "markdown",
   "metadata": {},
   "source": [
    "We see that we are left with 190 different MRT stations. We can now get the longitude and latitude of the MRT stations using one map"
   ]
  },
  {
   "cell_type": "code",
   "execution_count": 13,
   "metadata": {},
   "outputs": [
    {
     "name": "stderr",
     "output_type": "stream",
     "text": [
      "Fetching MRT coordinates: 100%|██████████| 190/190 [00:23<00:00,  7.93it/s]\n"
     ]
    },
    {
     "data": {
      "text/html": [
       "<div>\n",
       "<style scoped>\n",
       "    .dataframe tbody tr th:only-of-type {\n",
       "        vertical-align: middle;\n",
       "    }\n",
       "\n",
       "    .dataframe tbody tr th {\n",
       "        vertical-align: top;\n",
       "    }\n",
       "\n",
       "    .dataframe thead th {\n",
       "        text-align: right;\n",
       "    }\n",
       "</style>\n",
       "<table border=\"1\" class=\"dataframe\">\n",
       "  <thead>\n",
       "    <tr style=\"text-align: right;\">\n",
       "      <th></th>\n",
       "      <th>mrt</th>\n",
       "      <th>building</th>\n",
       "      <th>latitude</th>\n",
       "      <th>longitude</th>\n",
       "      <th>code</th>\n",
       "    </tr>\n",
       "  </thead>\n",
       "  <tbody>\n",
       "    <tr>\n",
       "      <th>0</th>\n",
       "      <td>Jurong East</td>\n",
       "      <td>JURONG EAST MRT STATION (EW24 / NS1)</td>\n",
       "      <td>1.33315281585758</td>\n",
       "      <td>103.742286332403</td>\n",
       "      <td>NS1</td>\n",
       "    </tr>\n",
       "    <tr>\n",
       "      <th>1</th>\n",
       "      <td>Bukit Batok</td>\n",
       "      <td>BUKIT BATOK MRT STATION (NS2)</td>\n",
       "      <td>1.34903331201636</td>\n",
       "      <td>103.749566478309</td>\n",
       "      <td>NS2</td>\n",
       "    </tr>\n",
       "    <tr>\n",
       "      <th>2</th>\n",
       "      <td>Bukit Gombak</td>\n",
       "      <td>BUKIT GOMBAK MRT STATION (NS3)</td>\n",
       "      <td>1.35861159094192</td>\n",
       "      <td>103.751790910733</td>\n",
       "      <td>NS3</td>\n",
       "    </tr>\n",
       "    <tr>\n",
       "      <th>3</th>\n",
       "      <td>Brickland</td>\n",
       "      <td>BUKIT GOMBAK MRT STATION (NS3)</td>\n",
       "      <td>1.35861159094192</td>\n",
       "      <td>103.751790910733</td>\n",
       "      <td>NS3</td>\n",
       "    </tr>\n",
       "    <tr>\n",
       "      <th>4</th>\n",
       "      <td>Choa Chu Kang</td>\n",
       "      <td>CHOA CHU KANG MRT STATION (NS4)</td>\n",
       "      <td>1.38536316540225</td>\n",
       "      <td>103.744370779756</td>\n",
       "      <td>NS4</td>\n",
       "    </tr>\n",
       "  </tbody>\n",
       "</table>\n",
       "</div>"
      ],
      "text/plain": [
       "             mrt                              building          latitude  \\\n",
       "0    Jurong East  JURONG EAST MRT STATION (EW24 / NS1)  1.33315281585758   \n",
       "1    Bukit Batok         BUKIT BATOK MRT STATION (NS2)  1.34903331201636   \n",
       "2   Bukit Gombak        BUKIT GOMBAK MRT STATION (NS3)  1.35861159094192   \n",
       "3      Brickland        BUKIT GOMBAK MRT STATION (NS3)  1.35861159094192   \n",
       "4  Choa Chu Kang       CHOA CHU KANG MRT STATION (NS4)  1.38536316540225   \n",
       "\n",
       "          longitude code  \n",
       "0  103.742286332403  NS1  \n",
       "1  103.749566478309  NS2  \n",
       "2  103.751790910733  NS3  \n",
       "3  103.751790910733  NS3  \n",
       "4  103.744370779756  NS4  "
      ]
     },
     "execution_count": 13,
     "metadata": {},
     "output_type": "execute_result"
    }
   ],
   "source": [
    "mrt_building = []\n",
    "mrt_lat = []\n",
    "mrt_long = []\n",
    "headers = {\"Authorization\": \"Bearer **********************\"}\n",
    "\n",
    "# Query and look for location using code as it is more accurate\n",
    "for index, row in tqdm(mrt_df.iterrows(), total=len(mrt_df), desc=\"Fetching MRT coordinates\"):\n",
    "    query_address = row['code']  # Access value in the 'code' column\n",
    "    url = f\"https://www.onemap.gov.sg/api/common/elastic/search?searchVal={query_address}%MRT&returnGeom=Y&getAddrDetails=Y&pageNum=1\"        \n",
    "    response = requests.get(url, headers=headers)\n",
    "\n",
    "    data_mrt = json.loads(response.content)\n",
    "    \n",
    "    if data_mrt['found'] != 0:\n",
    "        mrt_building.append(data_mrt[\"results\"][0][\"BUILDING\"])\n",
    "        mrt_lat.append(data_mrt[\"results\"][0][\"LATITUDE\"])\n",
    "        mrt_long.append(data_mrt[\"results\"][0][\"LONGITUDE\"])\n",
    "\n",
    "        # print(f\"{query_address}, Lat: {data_mrt['results'][0]['LATITUDE']} Long: {data_mrt['results'][0]['LONGITUDE']}\")\n",
    "    else:\n",
    "        mrt_building.append('NotFound')\n",
    "        mrt_lat.append('NotFound')\n",
    "        mrt_long.append('NotFound')\n",
    "\n",
    "# Store this information in a dataframe\n",
    "mrt_location = pd.DataFrame({\n",
    "    'mrt': mrt_df['station_name'],\n",
    "    'building': mrt_building,\n",
    "    'latitude': mrt_lat,\n",
    "    'longitude': mrt_long, \n",
    "    'code': mrt_df['code']\n",
    "})\n",
    "\n",
    "mrt_location.head()\n"
   ]
  },
  {
   "cell_type": "markdown",
   "metadata": {},
   "source": [
    "We have managed to capture the lat and long of our mrt stations, with only 4 missing. And when we inspect further these have issues as they don't exist yet so we can drop them"
   ]
  },
  {
   "cell_type": "code",
   "execution_count": 14,
   "metadata": {},
   "outputs": [
    {
     "data": {
      "text/html": [
       "<div>\n",
       "<style scoped>\n",
       "    .dataframe tbody tr th:only-of-type {\n",
       "        vertical-align: middle;\n",
       "    }\n",
       "\n",
       "    .dataframe tbody tr th {\n",
       "        vertical-align: top;\n",
       "    }\n",
       "\n",
       "    .dataframe thead th {\n",
       "        text-align: right;\n",
       "    }\n",
       "</style>\n",
       "<table border=\"1\" class=\"dataframe\">\n",
       "  <thead>\n",
       "    <tr style=\"text-align: right;\">\n",
       "      <th></th>\n",
       "      <th>mrt</th>\n",
       "      <th>building</th>\n",
       "      <th>latitude</th>\n",
       "      <th>longitude</th>\n",
       "      <th>code</th>\n",
       "    </tr>\n",
       "  </thead>\n",
       "  <tbody>\n",
       "    <tr>\n",
       "      <th>6</th>\n",
       "      <td>Sungei Kadut</td>\n",
       "      <td>NotFound</td>\n",
       "      <td>NotFound</td>\n",
       "      <td>NotFound</td>\n",
       "      <td>NS6</td>\n",
       "    </tr>\n",
       "    <tr>\n",
       "      <th>37</th>\n",
       "      <td>DE1</td>\n",
       "      <td>NotFound</td>\n",
       "      <td>NotFound</td>\n",
       "      <td>NotFound</td>\n",
       "      <td>DE1</td>\n",
       "    </tr>\n",
       "    <tr>\n",
       "      <th>38</th>\n",
       "      <td>Sungei Kadut</td>\n",
       "      <td>NotFound</td>\n",
       "      <td>NotFound</td>\n",
       "      <td>NotFound</td>\n",
       "      <td>DE2</td>\n",
       "    </tr>\n",
       "    <tr>\n",
       "      <th>32</th>\n",
       "      <td>Changi Airport Terminal 5[d]</td>\n",
       "      <td>NotFound</td>\n",
       "      <td>NotFound</td>\n",
       "      <td>NotFound</td>\n",
       "      <td>CR1</td>\n",
       "    </tr>\n",
       "  </tbody>\n",
       "</table>\n",
       "</div>"
      ],
      "text/plain": [
       "                             mrt  building  latitude longitude code\n",
       "6                   Sungei Kadut  NotFound  NotFound  NotFound  NS6\n",
       "37                           DE1  NotFound  NotFound  NotFound  DE1\n",
       "38                  Sungei Kadut  NotFound  NotFound  NotFound  DE2\n",
       "32  Changi Airport Terminal 5[d]  NotFound  NotFound  NotFound  CR1"
      ]
     },
     "execution_count": 14,
     "metadata": {},
     "output_type": "execute_result"
    }
   ],
   "source": [
    "mrt_location[mrt_location['building'] == 'NotFound']"
   ]
  },
  {
   "cell_type": "code",
   "execution_count": 15,
   "metadata": {},
   "outputs": [
    {
     "data": {
      "text/html": [
       "<div>\n",
       "<style scoped>\n",
       "    .dataframe tbody tr th:only-of-type {\n",
       "        vertical-align: middle;\n",
       "    }\n",
       "\n",
       "    .dataframe tbody tr th {\n",
       "        vertical-align: top;\n",
       "    }\n",
       "\n",
       "    .dataframe thead th {\n",
       "        text-align: right;\n",
       "    }\n",
       "</style>\n",
       "<table border=\"1\" class=\"dataframe\">\n",
       "  <thead>\n",
       "    <tr style=\"text-align: right;\">\n",
       "      <th></th>\n",
       "      <th>mrt</th>\n",
       "      <th>building</th>\n",
       "      <th>latitude</th>\n",
       "      <th>longitude</th>\n",
       "      <th>code</th>\n",
       "    </tr>\n",
       "  </thead>\n",
       "  <tbody>\n",
       "    <tr>\n",
       "      <th>0</th>\n",
       "      <td>Jurong East</td>\n",
       "      <td>JURONG EAST MRT STATION (EW24 / NS1)</td>\n",
       "      <td>1.33315281585758</td>\n",
       "      <td>103.742286332403</td>\n",
       "      <td>NS1</td>\n",
       "    </tr>\n",
       "    <tr>\n",
       "      <th>1</th>\n",
       "      <td>Bukit Batok</td>\n",
       "      <td>BUKIT BATOK MRT STATION (NS2)</td>\n",
       "      <td>1.34903331201636</td>\n",
       "      <td>103.749566478309</td>\n",
       "      <td>NS2</td>\n",
       "    </tr>\n",
       "    <tr>\n",
       "      <th>2</th>\n",
       "      <td>Bukit Gombak</td>\n",
       "      <td>BUKIT GOMBAK MRT STATION (NS3)</td>\n",
       "      <td>1.35861159094192</td>\n",
       "      <td>103.751790910733</td>\n",
       "      <td>NS3</td>\n",
       "    </tr>\n",
       "    <tr>\n",
       "      <th>3</th>\n",
       "      <td>Brickland</td>\n",
       "      <td>BUKIT GOMBAK MRT STATION (NS3)</td>\n",
       "      <td>1.35861159094192</td>\n",
       "      <td>103.751790910733</td>\n",
       "      <td>NS3</td>\n",
       "    </tr>\n",
       "    <tr>\n",
       "      <th>4</th>\n",
       "      <td>Choa Chu Kang</td>\n",
       "      <td>CHOA CHU KANG MRT STATION (NS4)</td>\n",
       "      <td>1.38536316540225</td>\n",
       "      <td>103.744370779756</td>\n",
       "      <td>NS4</td>\n",
       "    </tr>\n",
       "  </tbody>\n",
       "</table>\n",
       "</div>"
      ],
      "text/plain": [
       "             mrt                              building          latitude  \\\n",
       "0    Jurong East  JURONG EAST MRT STATION (EW24 / NS1)  1.33315281585758   \n",
       "1    Bukit Batok         BUKIT BATOK MRT STATION (NS2)  1.34903331201636   \n",
       "2   Bukit Gombak        BUKIT GOMBAK MRT STATION (NS3)  1.35861159094192   \n",
       "3      Brickland        BUKIT GOMBAK MRT STATION (NS3)  1.35861159094192   \n",
       "4  Choa Chu Kang       CHOA CHU KANG MRT STATION (NS4)  1.38536316540225   \n",
       "\n",
       "          longitude code  \n",
       "0  103.742286332403  NS1  \n",
       "1  103.749566478309  NS2  \n",
       "2  103.751790910733  NS3  \n",
       "3  103.751790910733  NS3  \n",
       "4  103.744370779756  NS4  "
      ]
     },
     "execution_count": 15,
     "metadata": {},
     "output_type": "execute_result"
    }
   ],
   "source": [
    "mrt_location =  mrt_location[mrt_location['building'] != 'NotFound']\n",
    "mrt_location.head()"
   ]
  },
  {
   "cell_type": "markdown",
   "metadata": {},
   "source": [
    "### Mall Extraction\n",
    "\n",
    "Next we can do the same for the malls in Singapore, however some tweaks are needed as the wiki page is different"
   ]
  },
  {
   "cell_type": "code",
   "execution_count": 16,
   "metadata": {},
   "outputs": [
    {
     "name": "stdout",
     "output_type": "stream",
     "text": [
      "Request successful!\n"
     ]
    }
   ],
   "source": [
    "url = \"https://en.wikipedia.org/wiki/List_of_shopping_malls_in_Singapore\"  # Example URL\n",
    "response = requests.get(url)  # Send HTTP request\n",
    "\n",
    "# Check if request was successful\n",
    "if response.status_code == 200:\n",
    "    print(\"Request successful!\")\n",
    "else:\n",
    "    print(\"Failed to retrieve page.\")\n",
    "\n",
    "soup = BeautifulSoup(response.text, \"html.parser\")  # Parse HTML"
   ]
  },
  {
   "cell_type": "code",
   "execution_count": 17,
   "metadata": {},
   "outputs": [
    {
     "name": "stdout",
     "output_type": "stream",
     "text": [
      "Number of lists found: 7\n"
     ]
    }
   ],
   "source": [
    "malls = soup.find_all(class_='div-col') # Find all tables\n",
    "print(f\"Number of lists found: {len(malls)}\")"
   ]
  },
  {
   "cell_type": "markdown",
   "metadata": {},
   "source": [
    "To find them we used located the div col class element as they were the only elements with this class. We managed to find 7 which is correct based off manually counting the wikipedia page"
   ]
  },
  {
   "cell_type": "code",
   "execution_count": 18,
   "metadata": {},
   "outputs": [
    {
     "data": {
      "text/plain": [
       "['100 AM',\n",
       " '313@Somerset',\n",
       " 'Aperia',\n",
       " 'Balestier Hill Shopping Centre',\n",
       " 'Bugis Cube',\n",
       " 'Bugis Junction',\n",
       " 'Bugis+',\n",
       " 'Capitol Piazza',\n",
       " 'Cathay Cineleisure Orchard',\n",
       " 'Clarke Quay Central']"
      ]
     },
     "execution_count": 18,
     "metadata": {},
     "output_type": "execute_result"
    }
   ],
   "source": [
    "def extract_malls(malls_div):\n",
    "    mall_names = []\n",
    "    for div in malls_div:\n",
    "        li_tags = div.find_all('li')\n",
    "        for li in li_tags:\n",
    "            # Check if the 'li' contains a link (for malls with 'a' tags)\n",
    "            if li.a:\n",
    "                mall_names.append(li.a.text.strip())\n",
    "            else:\n",
    "                mall_names.append(li.text.strip())\n",
    "\n",
    "    return mall_names\n",
    "\n",
    "list_of_malls = extract_malls(malls)\n",
    "list_of_malls[0:10]"
   ]
  },
  {
   "cell_type": "code",
   "execution_count": 19,
   "metadata": {},
   "outputs": [
    {
     "name": "stderr",
     "output_type": "stream",
     "text": [
      "Fetching Mall coordinates: 100%|██████████| 174/174 [00:26<00:00,  6.68it/s]\n"
     ]
    },
    {
     "data": {
      "text/html": [
       "<div>\n",
       "<style scoped>\n",
       "    .dataframe tbody tr th:only-of-type {\n",
       "        vertical-align: middle;\n",
       "    }\n",
       "\n",
       "    .dataframe tbody tr th {\n",
       "        vertical-align: top;\n",
       "    }\n",
       "\n",
       "    .dataframe thead th {\n",
       "        text-align: right;\n",
       "    }\n",
       "</style>\n",
       "<table border=\"1\" class=\"dataframe\">\n",
       "  <thead>\n",
       "    <tr style=\"text-align: right;\">\n",
       "      <th></th>\n",
       "      <th>mall</th>\n",
       "      <th>building</th>\n",
       "      <th>latitude</th>\n",
       "      <th>longitude</th>\n",
       "    </tr>\n",
       "  </thead>\n",
       "  <tbody>\n",
       "    <tr>\n",
       "      <th>0</th>\n",
       "      <td>100 AM</td>\n",
       "      <td>100 AM</td>\n",
       "      <td>1.27458821795426</td>\n",
       "      <td>103.84347073661</td>\n",
       "    </tr>\n",
       "    <tr>\n",
       "      <th>1</th>\n",
       "      <td>313@Somerset</td>\n",
       "      <td>NotFound</td>\n",
       "      <td>NotFound</td>\n",
       "      <td>NotFound</td>\n",
       "    </tr>\n",
       "    <tr>\n",
       "      <th>2</th>\n",
       "      <td>Aperia</td>\n",
       "      <td>NotFound</td>\n",
       "      <td>NotFound</td>\n",
       "      <td>NotFound</td>\n",
       "    </tr>\n",
       "    <tr>\n",
       "      <th>3</th>\n",
       "      <td>Balestier Hill Shopping Centre</td>\n",
       "      <td>BALESTIER 288</td>\n",
       "      <td>1.32297698121569</td>\n",
       "      <td>103.852811354547</td>\n",
       "    </tr>\n",
       "    <tr>\n",
       "      <th>4</th>\n",
       "      <td>Bugis Cube</td>\n",
       "      <td>BUGIS MRT STATION</td>\n",
       "      <td>1.30026468984101</td>\n",
       "      <td>103.855614760658</td>\n",
       "    </tr>\n",
       "  </tbody>\n",
       "</table>\n",
       "</div>"
      ],
      "text/plain": [
       "                             mall           building          latitude  \\\n",
       "0                          100 AM             100 AM  1.27458821795426   \n",
       "1                    313@Somerset           NotFound          NotFound   \n",
       "2                          Aperia           NotFound          NotFound   \n",
       "3  Balestier Hill Shopping Centre      BALESTIER 288  1.32297698121569   \n",
       "4                      Bugis Cube  BUGIS MRT STATION  1.30026468984101   \n",
       "\n",
       "          longitude  \n",
       "0   103.84347073661  \n",
       "1          NotFound  \n",
       "2          NotFound  \n",
       "3  103.852811354547  \n",
       "4  103.855614760658  "
      ]
     },
     "execution_count": 19,
     "metadata": {},
     "output_type": "execute_result"
    }
   ],
   "source": [
    "mall_building = []\n",
    "mall_lat = []\n",
    "mall_long = []\n",
    "headers = {\"Authorization\": \"Bearer **********************\"}  # API token\n",
    "\n",
    "# Query and look for location using code as it is more accurate\n",
    "for mall in tqdm(list_of_malls, desc=\"Fetching Mall coordinates\"):\n",
    "    url = f\"https://www.onemap.gov.sg/api/common/elastic/search?searchVal={mall}%MALL&returnGeom=Y&getAddrDetails=Y&pageNum=1\"  # Modify for mall search\n",
    "    response = requests.get(url, headers=headers)\n",
    "    try:\n",
    "        data_mall = json.loads(response.content)\n",
    "    except:\n",
    "        mall_building.append('NotFound')\n",
    "        mall_lat.append('NotFound')\n",
    "        mall_long.append('NotFound')\n",
    "        continue\n",
    "    \n",
    "    if data_mall['found'] != 0:\n",
    "        mall_building.append(data_mall[\"results\"][0][\"BUILDING\"])\n",
    "        mall_lat.append(data_mall[\"results\"][0][\"LATITUDE\"])\n",
    "        mall_long.append(data_mall[\"results\"][0][\"LONGITUDE\"])\n",
    "\n",
    "        # print(f\"{query_address}, Lat: {data_mall['results'][0]['LATITUDE']} Long: {data_mall['results'][0]['LONGITUDE']}\")\n",
    "    else:\n",
    "        mall_building.append('NotFound')\n",
    "        mall_lat.append('NotFound')\n",
    "        mall_long.append('NotFound')\n",
    "\n",
    "# Store this information in a dataframe\n",
    "mall_location = pd.DataFrame({\n",
    "    'mall': list_of_malls,\n",
    "    'building': mall_building,\n",
    "    'latitude': mall_lat,\n",
    "    'longitude': mall_long, \n",
    "})\n",
    "\n",
    "mall_location.head()  # Display the first few rows\n"
   ]
  },
  {
   "cell_type": "markdown",
   "metadata": {},
   "source": [
    "After the extraction, there are a few malls with issues from the API but we can actually just populate them manually"
   ]
  },
  {
   "cell_type": "code",
   "execution_count": 20,
   "metadata": {},
   "outputs": [
    {
     "data": {
      "text/html": [
       "<div>\n",
       "<style scoped>\n",
       "    .dataframe tbody tr th:only-of-type {\n",
       "        vertical-align: middle;\n",
       "    }\n",
       "\n",
       "    .dataframe tbody tr th {\n",
       "        vertical-align: top;\n",
       "    }\n",
       "\n",
       "    .dataframe thead th {\n",
       "        text-align: right;\n",
       "    }\n",
       "</style>\n",
       "<table border=\"1\" class=\"dataframe\">\n",
       "  <thead>\n",
       "    <tr style=\"text-align: right;\">\n",
       "      <th></th>\n",
       "      <th>mall</th>\n",
       "      <th>building</th>\n",
       "      <th>latitude</th>\n",
       "      <th>longitude</th>\n",
       "    </tr>\n",
       "  </thead>\n",
       "  <tbody>\n",
       "    <tr>\n",
       "      <th>1</th>\n",
       "      <td>313@Somerset</td>\n",
       "      <td>NotFound</td>\n",
       "      <td>NotFound</td>\n",
       "      <td>NotFound</td>\n",
       "    </tr>\n",
       "    <tr>\n",
       "      <th>2</th>\n",
       "      <td>Aperia</td>\n",
       "      <td>NotFound</td>\n",
       "      <td>NotFound</td>\n",
       "      <td>NotFound</td>\n",
       "    </tr>\n",
       "    <tr>\n",
       "      <th>14</th>\n",
       "      <td>Duo</td>\n",
       "      <td>NotFound</td>\n",
       "      <td>NotFound</td>\n",
       "      <td>NotFound</td>\n",
       "    </tr>\n",
       "    <tr>\n",
       "      <th>16</th>\n",
       "      <td>Funan</td>\n",
       "      <td>NotFound</td>\n",
       "      <td>NotFound</td>\n",
       "      <td>NotFound</td>\n",
       "    </tr>\n",
       "    <tr>\n",
       "      <th>84</th>\n",
       "      <td>Paya Lebar Quarter (PLQ)</td>\n",
       "      <td>NotFound</td>\n",
       "      <td>NotFound</td>\n",
       "      <td>NotFound</td>\n",
       "    </tr>\n",
       "    <tr>\n",
       "      <th>138</th>\n",
       "      <td>HillV2</td>\n",
       "      <td>NotFound</td>\n",
       "      <td>NotFound</td>\n",
       "      <td>NotFound</td>\n",
       "    </tr>\n",
       "    <tr>\n",
       "      <th>149</th>\n",
       "      <td>VivoCity</td>\n",
       "      <td>NotFound</td>\n",
       "      <td>NotFound</td>\n",
       "      <td>NotFound</td>\n",
       "    </tr>\n",
       "    <tr>\n",
       "      <th>154</th>\n",
       "      <td>IMM</td>\n",
       "      <td>NotFound</td>\n",
       "      <td>NotFound</td>\n",
       "      <td>NotFound</td>\n",
       "    </tr>\n",
       "    <tr>\n",
       "      <th>155</th>\n",
       "      <td>Jem</td>\n",
       "      <td>NotFound</td>\n",
       "      <td>NotFound</td>\n",
       "      <td>NotFound</td>\n",
       "    </tr>\n",
       "    <tr>\n",
       "      <th>156</th>\n",
       "      <td>Westgate</td>\n",
       "      <td>NotFound</td>\n",
       "      <td>NotFound</td>\n",
       "      <td>NotFound</td>\n",
       "    </tr>\n",
       "    <tr>\n",
       "      <th>161</th>\n",
       "      <td>Anchorpoint</td>\n",
       "      <td>NotFound</td>\n",
       "      <td>NotFound</td>\n",
       "      <td>NotFound</td>\n",
       "    </tr>\n",
       "    <tr>\n",
       "      <th>162</th>\n",
       "      <td>OD Mall</td>\n",
       "      <td>NotFound</td>\n",
       "      <td>NotFound</td>\n",
       "      <td>NotFound</td>\n",
       "    </tr>\n",
       "  </tbody>\n",
       "</table>\n",
       "</div>"
      ],
      "text/plain": [
       "                         mall  building  latitude longitude\n",
       "1                313@Somerset  NotFound  NotFound  NotFound\n",
       "2                      Aperia  NotFound  NotFound  NotFound\n",
       "14                        Duo  NotFound  NotFound  NotFound\n",
       "16                      Funan  NotFound  NotFound  NotFound\n",
       "84   Paya Lebar Quarter (PLQ)  NotFound  NotFound  NotFound\n",
       "138                    HillV2  NotFound  NotFound  NotFound\n",
       "149                  VivoCity  NotFound  NotFound  NotFound\n",
       "154                       IMM  NotFound  NotFound  NotFound\n",
       "155                       Jem  NotFound  NotFound  NotFound\n",
       "156                  Westgate  NotFound  NotFound  NotFound\n",
       "161               Anchorpoint  NotFound  NotFound  NotFound\n",
       "162                   OD Mall  NotFound  NotFound  NotFound"
      ]
     },
     "execution_count": 20,
     "metadata": {},
     "output_type": "execute_result"
    }
   ],
   "source": [
    "mall_location[mall_location['building'] == 'NotFound']"
   ]
  },
  {
   "cell_type": "code",
   "execution_count": 21,
   "metadata": {},
   "outputs": [
    {
     "data": {
      "text/html": [
       "<div>\n",
       "<style scoped>\n",
       "    .dataframe tbody tr th:only-of-type {\n",
       "        vertical-align: middle;\n",
       "    }\n",
       "\n",
       "    .dataframe tbody tr th {\n",
       "        vertical-align: top;\n",
       "    }\n",
       "\n",
       "    .dataframe thead th {\n",
       "        text-align: right;\n",
       "    }\n",
       "</style>\n",
       "<table border=\"1\" class=\"dataframe\">\n",
       "  <thead>\n",
       "    <tr style=\"text-align: right;\">\n",
       "      <th></th>\n",
       "      <th>mall</th>\n",
       "      <th>building</th>\n",
       "      <th>latitude</th>\n",
       "      <th>longitude</th>\n",
       "    </tr>\n",
       "  </thead>\n",
       "  <tbody>\n",
       "    <tr>\n",
       "      <th>0</th>\n",
       "      <td>100 AM</td>\n",
       "      <td>100 AM</td>\n",
       "      <td>1.27458821795426</td>\n",
       "      <td>103.84347073661</td>\n",
       "    </tr>\n",
       "    <tr>\n",
       "      <th>1</th>\n",
       "      <td>313@Somerset</td>\n",
       "      <td>313 @ SOMERSET</td>\n",
       "      <td>1.3010144</td>\n",
       "      <td>103.8383607</td>\n",
       "    </tr>\n",
       "    <tr>\n",
       "      <th>2</th>\n",
       "      <td>Aperia</td>\n",
       "      <td>APERIA</td>\n",
       "      <td>1.3097113</td>\n",
       "      <td>103.8643265</td>\n",
       "    </tr>\n",
       "    <tr>\n",
       "      <th>3</th>\n",
       "      <td>Balestier Hill Shopping Centre</td>\n",
       "      <td>BALESTIER 288</td>\n",
       "      <td>1.32297698121569</td>\n",
       "      <td>103.852811354547</td>\n",
       "    </tr>\n",
       "    <tr>\n",
       "      <th>4</th>\n",
       "      <td>Bugis Cube</td>\n",
       "      <td>BUGIS MRT STATION</td>\n",
       "      <td>1.30026468984101</td>\n",
       "      <td>103.855614760658</td>\n",
       "    </tr>\n",
       "  </tbody>\n",
       "</table>\n",
       "</div>"
      ],
      "text/plain": [
       "                             mall           building          latitude  \\\n",
       "0                          100 AM             100 AM  1.27458821795426   \n",
       "1                    313@Somerset     313 @ SOMERSET         1.3010144   \n",
       "2                          Aperia             APERIA         1.3097113   \n",
       "3  Balestier Hill Shopping Centre      BALESTIER 288  1.32297698121569   \n",
       "4                      Bugis Cube  BUGIS MRT STATION  1.30026468984101   \n",
       "\n",
       "          longitude  \n",
       "0   103.84347073661  \n",
       "1       103.8383607  \n",
       "2       103.8643265  \n",
       "3  103.852811354547  \n",
       "4  103.855614760658  "
      ]
     },
     "execution_count": 21,
     "metadata": {},
     "output_type": "execute_result"
    }
   ],
   "source": [
    "pd.set_option('display.float_format', '{:,.7f}'.format)  # This will show up to 10 decimal places7\n",
    "mall_info = {\n",
    "    \"Duo\": [\"DUO GALLERIA\", 1.2995344, 103.8584017],\n",
    "    \"Aperia\": [\"APERIA\", 1.3097113, 103.8643265],\n",
    "    \"313@Somerset\": [\"313 @ SOMERSET\", 1.3010144, 103.8383607],\n",
    "    \"Funan\": [\"FUNAN\", 1.2913476, 103.8499898],\n",
    "    \"Paya Lebar Quarter (PLQ)\": [\"PAYA LEBAR QUARTER\", 1.3161739, 103.893139],\n",
    "    \"HillV2\": [\"HillV2\", 1.3626746, 103.764173],\n",
    "    \"VivoCity\": [\"VIVOCITY\", 1.2642932, 103.8223047],\n",
    "    \"IMM\": [\"IMM BUILDING\", 1.3348753, 103.7468948],\n",
    "    \"Jem\": [\"JEM\", 1.3332934, 103.7432788],\n",
    "    \"Westgate\": [\"WESTGATE\", 1.3341577, 103.7427665],\n",
    "    \"Anchorpoint\": [\"ANCHORPOINT SHOPPING CENTRE\", 1.2889348, 103.8056078],\n",
    "    \"OD Mall\": [\"GRANTRAL MALL @ CLEMENTI\", 1.3142705, 103.7651475]\n",
    "}\n",
    "\n",
    "for index, row in mall_location.iterrows():\n",
    "    mall_name = row['mall']\n",
    "    if mall_name in mall_info:\n",
    "        mall_location.at[index, 'building'] = mall_info[mall_name][0]\n",
    "        mall_location.at[index, 'latitude'] = mall_info[mall_name][1]\n",
    "        mall_location.at[index, 'longitude'] = mall_info[mall_name][2]\n",
    "\n",
    "mall_location.head()"
   ]
  },
  {
   "cell_type": "markdown",
   "metadata": {},
   "source": [
    "Here we have successfully extracted details regarding the malls in Singapore"
   ]
  },
  {
   "cell_type": "markdown",
   "metadata": {},
   "source": [
    "### Obtaining Housing locations\n",
    "\n",
    "The final data that we need to gather is the housing lat and long locations of each of our HDB flats. And to do this we can use one map as well"
   ]
  },
  {
   "cell_type": "markdown",
   "metadata": {},
   "source": [
    "We will need to get all of the blocks and street names combined, so that we can query the API properly. However we can also remove the duplicate addresses to prevent repeat searches "
   ]
  },
  {
   "cell_type": "code",
   "execution_count": 22,
   "metadata": {},
   "outputs": [
    {
     "data": {
      "text/plain": [
       "9838"
      ]
     },
     "execution_count": 22,
     "metadata": {},
     "output_type": "execute_result"
    }
   ],
   "source": [
    "df['address'] = df['block'] + ' ' + df['street_name'] + ' '+ 'SINGAPORE'\n",
    "df_dedup = df.drop_duplicates(subset='address', keep='first')\n",
    "len(df_dedup)\n",
    "\n",
    "# Next let's grab the unique addresses and create a list \n",
    "address_list = df_dedup['address'].tolist()\n",
    "len(address_list)"
   ]
  },
  {
   "cell_type": "code",
   "execution_count": null,
   "metadata": {},
   "outputs": [
    {
     "name": "stderr",
     "output_type": "stream",
     "text": [
      "Fetching HDB coordinates: 100%|██████████| 9838/9838 [35:48<00:00,  4.58it/s]  \n"
     ]
    },
    {
     "data": {
      "text/html": [
       "<div>\n",
       "<style scoped>\n",
       "    .dataframe tbody tr th:only-of-type {\n",
       "        vertical-align: middle;\n",
       "    }\n",
       "\n",
       "    .dataframe tbody tr th {\n",
       "        vertical-align: top;\n",
       "    }\n",
       "\n",
       "    .dataframe thead th {\n",
       "        text-align: right;\n",
       "    }\n",
       "</style>\n",
       "<table border=\"1\" class=\"dataframe\">\n",
       "  <thead>\n",
       "    <tr style=\"text-align: right;\">\n",
       "      <th></th>\n",
       "      <th>hdb</th>\n",
       "      <th>latitude</th>\n",
       "      <th>longitude</th>\n",
       "    </tr>\n",
       "  </thead>\n",
       "  <tbody>\n",
       "    <tr>\n",
       "      <th>0</th>\n",
       "      <td>170 ANG MO KIO AVE 4 SINGAPORE</td>\n",
       "      <td>1.37914986228487</td>\n",
       "      <td>103.84093819913</td>\n",
       "    </tr>\n",
       "    <tr>\n",
       "      <th>1</th>\n",
       "      <td>174 ANG MO KIO AVE 4 SINGAPORE</td>\n",
       "      <td>1.37914986228487</td>\n",
       "      <td>103.84093819913</td>\n",
       "    </tr>\n",
       "    <tr>\n",
       "      <th>2</th>\n",
       "      <td>216 ANG MO KIO AVE 1 SINGAPORE</td>\n",
       "      <td>1.36619678831054</td>\n",
       "      <td>103.841505011903</td>\n",
       "    </tr>\n",
       "    <tr>\n",
       "      <th>3</th>\n",
       "      <td>215 ANG MO KIO AVE 1 SINGAPORE</td>\n",
       "      <td>1.36655830166122</td>\n",
       "      <td>103.841624082978</td>\n",
       "    </tr>\n",
       "    <tr>\n",
       "      <th>4</th>\n",
       "      <td>218 ANG MO KIO AVE 1 SINGAPORE</td>\n",
       "      <td>1.36619678831054</td>\n",
       "      <td>103.841505011903</td>\n",
       "    </tr>\n",
       "  </tbody>\n",
       "</table>\n",
       "</div>"
      ],
      "text/plain": [
       "                              hdb          latitude         longitude\n",
       "0  170 ANG MO KIO AVE 4 SINGAPORE  1.37914986228487   103.84093819913\n",
       "1  174 ANG MO KIO AVE 4 SINGAPORE  1.37914986228487   103.84093819913\n",
       "2  216 ANG MO KIO AVE 1 SINGAPORE  1.36619678831054  103.841505011903\n",
       "3  215 ANG MO KIO AVE 1 SINGAPORE  1.36655830166122  103.841624082978\n",
       "4  218 ANG MO KIO AVE 1 SINGAPORE  1.36619678831054  103.841505011903"
      ]
     },
     "execution_count": 23,
     "metadata": {},
     "output_type": "execute_result"
    }
   ],
   "source": [
    "hdb_building = []\n",
    "hdb_lat = []\n",
    "hdb_long = []\n",
    "headers = {\"Authorization\": \"Bearer **********************\"}  # API token\n",
    "# Query and look for location using code as it is more accurate\n",
    "for hdb in tqdm(address_list, desc=\"Fetching HDB coordinates\"):\n",
    "    url = f\"https://www.onemap.gov.sg/api/common/elastic/search?searchVal={hdb}%MALL&returnGeom=Y&getAddrDetails=Y&pageNum=1\"  # Modify for mall search\n",
    "    response = requests.get(url, headers=headers)\n",
    "    try:\n",
    "        data_hdb = json.loads(response.content)\n",
    "    except:\n",
    "        hdb_building.append('NotFound')\n",
    "        hdb_lat.append('NotFound')\n",
    "        hdb_long.append('NotFound')\n",
    "        continue\n",
    "    \n",
    "    if data_mall['found'] != 0:\n",
    "        hdb_lat.append(data_hdb[\"results\"][0][\"LATITUDE\"])\n",
    "        hdb_long.append(data_hdb[\"results\"][0][\"LONGITUDE\"])\n",
    "\n",
    "        # print(f\"{query_address}, Lat: {data_mall['results'][0]['LATITUDE']} Long: {data_mall['results'][0]['LONGITUDE']}\")\n",
    "    else:\n",
    "        hdb_building.append('NotFound')\n",
    "        hdb_lat.append('NotFound')\n",
    "        hdb_long.append('NotFound')\n",
    "\n",
    "# Store this information in a dataframe\n",
    "hdb_location = pd.DataFrame({\n",
    "    'hdb': address_list,\n",
    "    'latitude': hdb_lat,\n",
    "    'longitude': hdb_long, \n",
    "})\n",
    "\n",
    "hdb_location.head()  # Display the first few rows\n",
    "\n"
   ]
  },
  {
   "cell_type": "code",
   "execution_count": 24,
   "metadata": {},
   "outputs": [
    {
     "data": {
      "text/html": [
       "<div>\n",
       "<style scoped>\n",
       "    .dataframe tbody tr th:only-of-type {\n",
       "        vertical-align: middle;\n",
       "    }\n",
       "\n",
       "    .dataframe tbody tr th {\n",
       "        vertical-align: top;\n",
       "    }\n",
       "\n",
       "    .dataframe thead th {\n",
       "        text-align: right;\n",
       "    }\n",
       "</style>\n",
       "<table border=\"1\" class=\"dataframe\">\n",
       "  <thead>\n",
       "    <tr style=\"text-align: right;\">\n",
       "      <th></th>\n",
       "      <th>hdb</th>\n",
       "      <th>latitude</th>\n",
       "      <th>longitude</th>\n",
       "    </tr>\n",
       "  </thead>\n",
       "  <tbody>\n",
       "  </tbody>\n",
       "</table>\n",
       "</div>"
      ],
      "text/plain": [
       "Empty DataFrame\n",
       "Columns: [hdb, latitude, longitude]\n",
       "Index: []"
      ]
     },
     "execution_count": 24,
     "metadata": {},
     "output_type": "execute_result"
    }
   ],
   "source": [
    "hdb_location[hdb_location['latitude'] == 'NotFound']"
   ]
  },
  {
   "cell_type": "markdown",
   "metadata": {},
   "source": [
    "Save all location data to csv"
   ]
  },
  {
   "cell_type": "code",
   "execution_count": 25,
   "metadata": {},
   "outputs": [],
   "source": [
    "hdb_location.to_csv('./datasets/hdb_location.csv',index=False)\n",
    "mrt_location.to_csv('./datasets/mrt_location.csv',index=False)\n",
    "mall_location.to_csv('./datasets/mall_location.csv',index=False)"
   ]
  },
  {
   "cell_type": "code",
   "execution_count": null,
   "metadata": {},
   "outputs": [],
   "source": []
  }
 ],
 "metadata": {
  "kernelspec": {
   "display_name": "virt_env",
   "language": "python",
   "name": "python3"
  },
  "language_info": {
   "codemirror_mode": {
    "name": "ipython",
    "version": 3
   },
   "file_extension": ".py",
   "mimetype": "text/x-python",
   "name": "python",
   "nbconvert_exporter": "python",
   "pygments_lexer": "ipython3",
   "version": "3.12.4"
  }
 },
 "nbformat": 4,
 "nbformat_minor": 2
}
